{
 "cells": [
  {
   "cell_type": "markdown",
   "id": "3151ac4b",
   "metadata": {},
   "source": [
    "# Built-In BlackBox Attacks\n",
    "\n",
    "Notebook demonstrating built-in BlackBox attacks (NES, Finite Difference, SPSA, RGF) from\n",
    "`adversarial_lab.arsenal.adversarial.blackbox`.\n",
    "\n",
    "**Notes**\n",
    "- This notebook imports `*` from `adversarial_lab.arsenal.adversarial.blackbox` as requested.\n",
    "- Replace the **MODEL SETUP** cell with your real model and preprocessing function.\n"
   ]
  },
  {
   "cell_type": "code",
   "execution_count": null,
   "id": "60ac7df6",
   "metadata": {},
   "outputs": [],
   "source": [
    "from adversarial_lab.arsenal.adversarial.blackbox import *\n",
    "\n",
    "from adversarial_lab.utils import Plotting\n",
    "\n",
    "from PIL import Image\n",
    "import matplotlib.pyplot as plt\n",
    "\n",
    "import numpy as np\n",
    "import tensorflow as tf\n",
    "from tensorflow.keras.preprocessing import image"
   ]
  },
  {
   "cell_type": "code",
   "execution_count": null,
   "id": "21c1d37f",
   "metadata": {},
   "outputs": [],
   "source": [
    "MODEL = \"mnist_digits\"\n",
    "TARGET_CLASS = 2\n",
    "\n",
    "if MODEL == \"mnist_digits\":\n",
    "    DIGIT = 1\n",
    "    IMAGE = 1\n",
    "    MODEL_PATH = f\"models/{MODEL}.h5\"\n",
    "    IMAGE_PATH = f\"data/digits/{DIGIT}/{IMAGE}.png\""
   ]
  },
  {
   "cell_type": "code",
   "execution_count": null,
   "id": "121092cd",
   "metadata": {},
   "outputs": [],
   "source": [
    "model = tf.keras.models.load_model(MODEL_PATH)\n",
    "\n",
    "def pred_fn(samples, *args, **kwargs):\n",
    "    samples = np.array(samples)\n",
    "    preds = model.predict(samples, verbose=0)\n",
    "    return [pred for pred in preds]"
   ]
  },
  {
   "cell_type": "code",
   "execution_count": null,
   "id": "27a72a71",
   "metadata": {},
   "outputs": [],
   "source": [
    "image = Image.open(IMAGE_PATH)\n",
    "image_array = np.array(image)\n",
    "\n",
    "predictions = pred_fn([image_array])\n",
    "print(f\"Predicted class: {np.argmax(predictions)}\")\n",
    "print(f\"True class: {DIGIT}\")\n",
    "print(f\"Predicticted Class Probability: {np.max(predictions)}\")"
   ]
  },
  {
   "cell_type": "code",
   "execution_count": null,
   "id": "63bc37d2",
   "metadata": {},
   "outputs": [],
   "source": [
    "fd = FiniteDifferenceAttack(pred_fn=pred_fn, epsilon=1, max_queries=5000, batch_size=32, block_size=9)\n",
    "adv_fd, noise_meta = fd.attack(sample=image_array, target_class=TARGET_CLASS, epochs=50)\n",
    "\n",
    "Plotting.plot_images_and_noise(image_array, adv_fd)"
   ]
  },
  {
   "cell_type": "code",
   "execution_count": null,
   "id": "e748a1e2",
   "metadata": {},
   "outputs": [],
   "source": [
    "nes = NESAttack(pred_fn=pred_fn, sigma=0.7, samples=50, learning_rate=1.0, verbose=2)\n",
    "adv_nes, noise_meta = nes.attack(sample=image_array, target_class=TARGET_CLASS, epochs=50)\n",
    "\n",
    "Plotting.plot_images_and_noise(image_array, adv_nes)"
   ]
  },
  {
   "cell_type": "code",
   "execution_count": null,
   "id": "d6a7ec2c",
   "metadata": {},
   "outputs": [],
   "source": [
    "nes = SPSAAttack(pred_fn=pred_fn, epsilon=20, samples=50, learning_rate=1.0, verbose=2)\n",
    "adv_spsa, noise_meta = nes.attack(sample=image_array, target_class=TARGET_CLASS, epochs=50)\n",
    "\n",
    "Plotting.plot_images_and_noise(image_array, adv_spsa)"
   ]
  },
  {
   "cell_type": "code",
   "execution_count": null,
   "id": "1864f04a",
   "metadata": {},
   "outputs": [],
   "source": [
    "nes = RGFAttack(pred_fn=pred_fn, epsilon=55, samples=50, learning_rate=1.0, verbose=2)\n",
    "adv_rgf, noise_meta = nes.attack(sample=image_array, target_class=TARGET_CLASS, epochs=50)\n",
    "\n",
    "Plotting.plot_images_and_noise(image_array, adv_rgf)"
   ]
  }
 ],
 "metadata": {
  "kernelspec": {
   "display_name": "Python 3",
   "language": "python",
   "name": "python3"
  },
  "language_info": {
   "codemirror_mode": {
    "name": "ipython",
    "version": 3
   },
   "file_extension": ".py",
   "mimetype": "text/x-python",
   "name": "python",
   "nbconvert_exporter": "python",
   "pygments_lexer": "ipython3",
   "version": "3.11.9"
  }
 },
 "nbformat": 4,
 "nbformat_minor": 5
}
