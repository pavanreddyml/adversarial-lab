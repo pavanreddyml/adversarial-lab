{
 "cells": [
  {
   "cell_type": "markdown",
   "metadata": {},
   "source": [
    "# Basic Whitebox Misclassification Attack Example"
   ]
  },
  {
   "cell_type": "markdown",
   "metadata": {},
   "source": [
    "## 1. Setup and Imports\n",
    "\n",
    "This cell imports all the necessary modules from the `adversarial_lab` library, as well as other common libraries like TensorFlow, NumPy, and PIL for image manipulation and numerical operations.\n",
    "\n",
    "Key `adversarial_lab` modules used:\n",
    "* `PGD`: Projected Gradient Descent optimizer used to generate adversarial noise.\n",
    "* `CategoricalCrossEntropy`: Loss function to guide the optimization.\n",
    "* `WhiteBoxMisclassification`: The main attacker class.\n",
    "* `AdditiveNoiseGenerator`: Generates the initial noise (can be zeros, random, etc.).\n",
    "* `PreprocessingFromFunction`: Wraps a custom preprocessing function.\n",
    "* `POClip`, `PONoisedSampleBounding`: Constraints applied to the noise or the noisy sample.\n",
    "* `Plotting`: Utility for visualizing images and noise."
   ]
  },
  {
   "cell_type": "code",
   "execution_count": 6,
   "metadata": {},
   "outputs": [],
   "source": [
    "from adversarial_lab.core.optimizers import PGD\n",
    "from adversarial_lab.callbacks import EarlyStopping\n",
    "from adversarial_lab.core.losses import CategoricalCrossEntropy\n",
    "from adversarial_lab.attacker.inference import BlackBoxMisclassificationAttack\n",
    "from adversarial_lab.core.gradient_estimator import FDGradientEstimator, NESGradientEstimator, SPSAGradientEstimator, RGFGradientEstimator\n",
    "from adversarial_lab.core.noise_generators.tensor import AdditiveNoiseGenerator\n",
    "from adversarial_lab.core.preprocessing import PreprocessingFromFunction\n",
    "from adversarial_lab.core.constraints import POClip, PONoisedSampleBounding\n",
    "\n",
    "from adversarial_lab.utils import Plotting\n",
    "\n",
    "from PIL import Image\n",
    "import matplotlib.pyplot as plt\n",
    "\n",
    "import numpy as np\n",
    "import tensorflow as tf\n",
    "from tensorflow.keras.preprocessing import image"
   ]
  },
  {
   "cell_type": "markdown",
   "metadata": {},
   "source": [
    "## 2. Model Selection and Loading\n",
    "\n",
    "Here, you can choose which pre-trained model to attack. The supported models are `InceptionV3`, `ResNet50`, and `MobileNetV2`.\n",
    "The subsequent code cell will load the chosen Keras application model with pre-trained ImageNet weights and set the appropriate `input_shape` and model-specific `preprocess_input` and `decode_predictions` functions.\n"
   ]
  },
  {
   "cell_type": "code",
   "execution_count": 7,
   "metadata": {},
   "outputs": [],
   "source": [
    "\n",
    "\n",
    "MODEL = \"mnist_digits\"\n",
    "\n",
    "if MODEL == \"mnist_digits\":\n",
    "    DIGIT = 1\n",
    "    IMAGE = 1\n",
    "    MODEL_PATH = f\"models/{MODEL}.h5\"\n",
    "    IMAGE_PATH = f\"data/digits/{DIGIT}/{IMAGE}.png\""
   ]
  },
  {
   "cell_type": "markdown",
   "metadata": {},
   "source": [
    "## 3. Image Preprocessing Function\n",
    "\n",
    "Neural network models expect input data in a specific format. This `preprocess` function handles:\n",
    "* **Type Casting**: Converts the input image data to `float32`.\n",
    "* **Grayscale to RGB**: Converts grayscale images (2D or 3D with 1 channel) to 3-channel RGB format, as expected by the pre-trained models.\n",
    "* **Resizing**: Resizes the image to the model's required input dimensions (e.g., (299, 299) for InceptionV3).\n",
    "* **Batch Dimension**: Adds a batch dimension to the image tensor, as models typically expect batches of images.\n",
    "* **Model-Specific Preprocessing**: Applies the specific preprocessing steps required by the chosen Keras model (e.g., scaling pixel values to a certain range like [-1, 1] or [0, 1], or BGR conversion if necessary)."
   ]
  },
  {
   "cell_type": "code",
   "execution_count": 8,
   "metadata": {},
   "outputs": [
    {
     "name": "stderr",
     "output_type": "stream",
     "text": [
      "WARNING:absl:Compiled the loaded model, but the compiled metrics have yet to be built. `model.compile_metrics` will be empty until you train or evaluate the model.\n"
     ]
    }
   ],
   "source": [
    "model = tf.keras.models.load_model(MODEL_PATH)\n",
    "\n",
    "def pred_fn(samples, *args, **kwargs):\n",
    "    samples = np.array(samples)\n",
    "    preds = model.predict(samples, verbose=0)\n",
    "    return [pred for pred in preds]"
   ]
  },
  {
   "cell_type": "markdown",
   "metadata": {},
   "source": [
    "## 4. Load and Classify Original Image\n",
    "\n",
    "This cell loads an example image (`panda.jpg`). We then preprocess it and get the model's prediction on this original image. This establishes a baseline classification before applying any adversarial attack. The top predicted classes and their probabilities are displayed.\n"
   ]
  },
  {
   "cell_type": "code",
   "execution_count": 9,
   "metadata": {},
   "outputs": [
    {
     "name": "stdout",
     "output_type": "stream",
     "text": [
      "Predicted class: 1\n",
      "True class: 1\n",
      "Predicticted Class Probability: 0.9999970197677612\n"
     ]
    }
   ],
   "source": [
    "image = Image.open(IMAGE_PATH)\n",
    "image_array = np.array(image)\n",
    "\n",
    "predictions = pred_fn([image_array])\n",
    "print(f\"Predicted class: {np.argmax(predictions)}\")\n",
    "print(f\"True class: {DIGIT}\")\n",
    "print(f\"Predicticted Class Probability: {np.max(predictions)}\")\n"
   ]
  },
  {
   "cell_type": "markdown",
   "metadata": {},
   "source": [
    "## 5. Configure the Adversarial Attack Components\n",
    "\n",
    "Now, we set up the components required for the `WhiteBoxMisclassification` attacker:\n",
    "* **Loss Function**: `CategoricalCrossEntropy` is used. For misclassification, the goal is to maximize this loss with respect to the original class or minimize it towards a target class.\n",
    "* **Optimizer**: `PGD` (Projected Gradient Descent) is chosen. This is an iterative optimization algorithm that takes steps in the direction of the gradient of the loss function and then projects the resulting perturbation back onto a constrained space (e.g., an L-infinity ball). The `learning_rate` (or step size) for PGD is set here.\n",
    "* **Constraints**:\n",
    "    * `POClip`: This \"Perturbation Operation\" clips the generated noise values to a specific range (e.g., between -2 and +2). This limits the magnitude of individual pixel changes in the noise.\n",
    "    * `PONoisedSampleBounding`: This ensures that the pixel values of the *adversarial image* (original image + noise) remain within a valid range (e.g., 0 to 255 for standard images).\n",
    "* **Noise Generator**: `AdditiveNoiseGenerator` is used.\n",
    "    * `dist=\"zeros\"`: Initializes the noise with all zeros. The PGD optimizer will then iteratively modify this noise.\n",
    "    * `scale=[0, 255]`: Informs the generator about the typical range of the input data it will be added to. This is more relevant if a random distribution (like \"uniform\" or \"normal\") was used for `dist`. For `dist=\"zeros\"`, `PONoisedSampleBounding` is key.\n",
    "* **Preprocessing Wrapper**: `PreprocessingFromFunction.create(preprocess)` wraps our custom `preprocess` function so it can be seamlessly integrated into the attacker's workflow. The attacker will use this to preprocess images before feeding them to the model during the attack process.\n"
   ]
  },
  {
   "cell_type": "code",
   "execution_count": null,
   "metadata": {},
   "outputs": [
    {
     "ename": "TypeError",
     "evalue": "RGFGradientEstimator.__init__() got an unexpected keyword argument 'block_size'",
     "output_type": "error",
     "traceback": [
      "\u001b[1;31m---------------------------------------------------------------------------\u001b[0m",
      "\u001b[1;31mTypeError\u001b[0m                                 Traceback (most recent call last)",
      "Cell \u001b[1;32mIn[10], line 12\u001b[0m\n\u001b[0;32m     10\u001b[0m gradient_estimator \u001b[38;5;241m=\u001b[39m NESGradientEstimator(sigma\u001b[38;5;241m=\u001b[39m\u001b[38;5;241m0.7\u001b[39m)\n\u001b[0;32m     11\u001b[0m gradient_estimator \u001b[38;5;241m=\u001b[39m SPSAGradientEstimator(epsilon\u001b[38;5;241m=\u001b[39m\u001b[38;5;241m20\u001b[39m)\n\u001b[1;32m---> 12\u001b[0m gradient_estimator \u001b[38;5;241m=\u001b[39m \u001b[43mRGFGradientEstimator\u001b[49m\u001b[43m(\u001b[49m\u001b[43mepsilon\u001b[49m\u001b[38;5;241;43m=\u001b[39;49m\u001b[38;5;241;43m20\u001b[39;49m\u001b[43m,\u001b[49m\u001b[43m \u001b[49m\u001b[43mbatch_size\u001b[49m\u001b[38;5;241;43m=\u001b[39;49m\u001b[38;5;241;43m32\u001b[39;49m\u001b[43m,\u001b[49m\u001b[43m \u001b[49m\u001b[43mblock_size\u001b[49m\u001b[38;5;241;43m=\u001b[39;49m\u001b[38;5;241;43m9\u001b[39;49m\u001b[43m,\u001b[49m\u001b[43m \u001b[49m\u001b[43mblock_pattern\u001b[49m\u001b[38;5;241;43m=\u001b[39;49m\u001b[38;5;124;43m\"\u001b[39;49m\u001b[38;5;124;43mrandom\u001b[39;49m\u001b[38;5;124;43m\"\u001b[39;49m\u001b[43m)\u001b[49m\n\u001b[0;32m     14\u001b[0m early_stopping_non_targetted \u001b[38;5;241m=\u001b[39m EarlyStopping(trigger\u001b[38;5;241m=\u001b[39m\u001b[38;5;124m\"\u001b[39m\u001b[38;5;124mmisclassification\u001b[39m\u001b[38;5;124m\"\u001b[39m)\n\u001b[0;32m     15\u001b[0m early_stopping_targetted \u001b[38;5;241m=\u001b[39m EarlyStopping(trigger\u001b[38;5;241m=\u001b[39m\u001b[38;5;124m\"\u001b[39m\u001b[38;5;124mmisclassification\u001b[39m\u001b[38;5;124m\"\u001b[39m, target_class\u001b[38;5;241m=\u001b[39m\u001b[38;5;241m2\u001b[39m, confidence\u001b[38;5;241m=\u001b[39m\u001b[38;5;241m0.5\u001b[39m)\n",
      "\u001b[1;31mTypeError\u001b[0m: RGFGradientEstimator.__init__() got an unexpected keyword argument 'block_size'"
     ]
    }
   ],
   "source": [
    "loss = CategoricalCrossEntropy()\n",
    "optimizer = PGD(learning_rate=1.0)\n",
    "\n",
    "constrain2 = PONoisedSampleBounding(min=0, max=255)\n",
    "constraints = [constrain2]\n",
    "\n",
    "noise_generator = AdditiveNoiseGenerator(scale=[0, 255], dist=\"zeros\")\n",
    "\n",
    "gradient_estimator = FDGradientEstimator(epsilon=255, max_perturbations=10000, batch_size=32, block_size=9, block_pattern=\"random\")\n",
    "gradient_estimator = NESGradientEstimator(sigma=0.7)\n",
    "gradient_estimator = SPSAGradientEstimator(epsilon=20)\n",
    "gradient_estimator = RGFGradientEstimator(epsilon=20)\n",
    "\n",
    "early_stopping_non_targetted = EarlyStopping(trigger=\"misclassification\")\n",
    "early_stopping_targetted = EarlyStopping(trigger=\"misclassification\", target_class=2, confidence=0.5)"
   ]
  },
  {
   "cell_type": "markdown",
   "metadata": {},
   "source": [
    "## 6. Initialize the Attacker\n",
    "\n",
    "With all components defined, we initialize the `WhiteBoxMisclassification` attacker.\n",
    "* `model`: The target neural network.\n",
    "* `optimizer`: The PGD optimizer configured above.\n",
    "* `loss`: The categorical cross-entropy loss function.\n",
    "* `noise_generator`: The additive noise generator.\n",
    "* `constraints`: The list of constraints to apply during noise generation.\n",
    "* `preprocessing`: The wrapped preprocessing function.\n",
    "* `verbose`: Controls the amount of logging output during the attack (0: silent, 1: progress bar, 2: epoch results, 3: detailed step results).\n"
   ]
  },
  {
   "cell_type": "code",
   "execution_count": null,
   "metadata": {},
   "outputs": [],
   "source": [
    "attacker = BlackBoxMisclassificationAttack(\n",
    "    model=pred_fn,\n",
    "    optimizer=optimizer,\n",
    "    loss=loss,\n",
    "    noise_generator=noise_generator,\n",
    "    constraints=constraints,\n",
    "    gradient_estimator=gradient_estimator,\n",
    "    callbacks=[early_stopping_targetted],\n",
    "    verbose=3)"
   ]
  },
  {
   "cell_type": "markdown",
   "metadata": {},
   "source": [
    "## 7. Perform a Targeted Misclassification Attack\n",
    "\n",
    "In a targeted attack, we aim to make the model classify the input image as a *specific* incorrect class.\n",
    "* `image_array`: The original input image as a NumPy array.\n",
    "* `target_class`: The integer index of the target class we want the model to predict. For ImageNet, class 924 is \"sports_car\". You can find other ImageNet class IDs online or by exploring `decode_predictions` output for various images.\n",
    "* `epochs`: The number of iterations the PGD optimizer will run to craft the adversarial noise.\n",
    "* `on_original=True`: Specifies that the attack generates noise to be added to the *original, unnormalized* image. If `False`, it would expect the input `image_array` to be already preprocessed and generate noise accordingly.\n",
    "\n",
    "The `attacker.attack()` method returns the generated adversarial noise.\n"
   ]
  },
  {
   "cell_type": "code",
   "execution_count": null,
   "metadata": {},
   "outputs": [
    {
     "name": "stderr",
     "output_type": "stream",
     "text": [
      "Attacking:  64%|██████▍   | 64/100 [00:23<00:13,  2.70it/s, Loss=4.58, Prediction (score)=2(0.701), Original Class (score)=1(0.295), Target Class (score)=2(0.701)] "
     ]
    }
   ],
   "source": [
    "noise, noise_meta = attacker.attack(image_array, \n",
    "                        target_class=2,\n",
    "                        epochs=100, \n",
    "                        on_original=True)"
   ]
  },
  {
   "cell_type": "markdown",
   "metadata": {},
   "source": [
    "## 8. Visualize Targeted Attack Results and Verify\n",
    "\n",
    "We use `Plotting.plot_images_and_noise` to display:\n",
    "1.  The original image.\n",
    "2.  The generated adversarial noise (magnified for visibility, as it's often subtle).\n",
    "3.  The resulting adversarial image (original + noise).\n",
    "\n",
    "We then preprocess the adversarial image and feed it to the model to see if the attack was successful in forcing the targeted misclassification.\n"
   ]
  },
  {
   "cell_type": "code",
   "execution_count": null,
   "metadata": {},
   "outputs": [
    {
     "data": {
      "image/png": "[encoded data removed]",
      "text/plain": [
       "<Figure size 2000x500 with 4 Axes>"
      ]
     },
     "metadata": {},
     "output_type": "display_data"
    }
   ],
   "source": [
    "Plotting.plot_images_and_noise(image_array, noise)"
   ]
  },
  {
   "cell_type": "markdown",
   "metadata": {},
   "source": [
    "## 9. Perform an Untargeted Misclassification Attack (Random Strategy)\n",
    "\n",
    "In an untargeted attack, the goal is to make the model misclassify the image as *any* class other than the original correct class.\n",
    "* `strategy=\"random\"`: This tells the attacker to randomly pick a class (that is not the original true class) as the misclassification target for each iteration or for the overall attack. The library might also support other strategies like \"least_likely\" (targeting the class the model deems least probable for the original image).\n",
    "* `target_class` is omitted when using a strategy like \"random\" as the attacker determines the target internally.\n",
    "* `original_class_index` (calculated in Cell 4) is implicitly used by the attacker with `strategy=\"random\"` to ensure the random target is not the original class.\n"
   ]
  },
  {
   "cell_type": "code",
   "execution_count": null,
   "metadata": {},
   "outputs": [
    {
     "ename": "NameError",
     "evalue": "name 'WhiteBoxMisclassificationAttack' is not defined",
     "output_type": "error",
     "traceback": [
      "\u001b[1;31m---------------------------------------------------------------------------\u001b[0m",
      "\u001b[1;31mNameError\u001b[0m                                 Traceback (most recent call last)",
      "Cell \u001b[1;32mIn[9], line 1\u001b[0m\n\u001b[1;32m----> 1\u001b[0m attacker \u001b[38;5;241m=\u001b[39m \u001b[43mWhiteBoxMisclassificationAttack\u001b[49m(\n\u001b[0;32m      2\u001b[0m     model\u001b[38;5;241m=\u001b[39mmodel,\n\u001b[0;32m      3\u001b[0m     optimizer\u001b[38;5;241m=\u001b[39moptimizer,\n\u001b[0;32m      4\u001b[0m     loss\u001b[38;5;241m=\u001b[39mloss,\n\u001b[0;32m      5\u001b[0m     noise_generator\u001b[38;5;241m=\u001b[39mnoise_generator,\n\u001b[0;32m      6\u001b[0m     constraints\u001b[38;5;241m=\u001b[39mconstraints,\n\u001b[0;32m      7\u001b[0m     preprocessing\u001b[38;5;241m=\u001b[39mpreprocessing,\n\u001b[0;32m      8\u001b[0m     callbacks\u001b[38;5;241m=\u001b[39m[early_stopping_non_targetted],\n\u001b[0;32m      9\u001b[0m     verbose\u001b[38;5;241m=\u001b[39m\u001b[38;5;241m3\u001b[39m)\n\u001b[0;32m     11\u001b[0m noise, noise_meta \u001b[38;5;241m=\u001b[39m attacker\u001b[38;5;241m.\u001b[39mattack(image_array, \n\u001b[0;32m     12\u001b[0m                         epochs\u001b[38;5;241m=\u001b[39m\u001b[38;5;241m20\u001b[39m, \n\u001b[0;32m     13\u001b[0m                         strategy\u001b[38;5;241m=\u001b[39m\u001b[38;5;124m\"\u001b[39m\u001b[38;5;124mrandom\u001b[39m\u001b[38;5;124m\"\u001b[39m,\n\u001b[0;32m     14\u001b[0m                         on_original\u001b[38;5;241m=\u001b[39m\u001b[38;5;28;01mTrue\u001b[39;00m)\n",
      "\u001b[1;31mNameError\u001b[0m: name 'WhiteBoxMisclassificationAttack' is not defined"
     ]
    }
   ],
   "source": [
    "attacker = WhiteBoxMisclassificationAttack(\n",
    "    model=model,\n",
    "    optimizer=optimizer,\n",
    "    loss=loss,\n",
    "    noise_generator=noise_generator,\n",
    "    constraints=constraints,\n",
    "    preprocessing=preprocessing,\n",
    "    callbacks=[early_stopping_non_targetted],\n",
    "    verbose=3)\n",
    "\n",
    "noise, noise_meta = attacker.attack(image_array, \n",
    "                        epochs=20, \n",
    "                        strategy=\"random\",\n",
    "                        on_original=True)"
   ]
  },
  {
   "cell_type": "code",
   "execution_count": null,
   "metadata": {},
   "outputs": [],
   "source": [
    "Plotting.plot_images_and_noise(image_array, noise)"
   ]
  },
  {
   "cell_type": "markdown",
   "metadata": {},
   "source": [
    "## 11. Conclusion\n",
    "\n",
    "This notebook demonstrated how to perform basic white-box targeted and untargeted misclassification attacks using the `adversarial_lab` library. We saw how relatively small, often imperceptible, perturbations can drastically change a deep neural network's predictions.\n",
    "\n",
    "**Further Exploration:**\n",
    "* Try different models (`ResNet50`, `MobileNetV2`).\n",
    "* Experiment with different `learning_rate` values for PGD and `epochs`.\n",
    "* Adjust the `POClip` constraint value for the noise.\n",
    "* Test with different images.\n",
    "* Explore other attack types or optimizers if available in the library.\n",
    "* Investigate other untargeted strategies like \"least_likely\"."
   ]
  }
 ],
 "metadata": {
  "kernelspec": {
   "display_name": "Python 3",
   "language": "python",
   "name": "python3"
  },
  "language_info": {
   "codemirror_mode": {
    "name": "ipython",
    "version": 3
   },
   "file_extension": ".py",
   "mimetype": "text/x-python",
   "name": "python",
   "nbconvert_exporter": "python",
   "pygments_lexer": "ipython3",
   "version": "3.11.9"
  }
 },
 "nbformat": 4,
 "nbformat_minor": 2
}
